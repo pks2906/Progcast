{
  "cells": [
    {
      "cell_type": "markdown",
      "metadata": {
        "id": "view-in-github",
        "colab_type": "text"
      },
      "source": [
        "<a href=\"https://colab.research.google.com/github/pks2906/Progcast/blob/main/Multi_organ_failure.ipynb\" target=\"_parent\"><img src=\"https://colab.research.google.com/assets/colab-badge.svg\" alt=\"Open In Colab\"/></a>"
      ]
    },
    {
      "cell_type": "markdown",
      "source": [
        "##Preprocessing"
      ],
      "metadata": {
        "id": "xGcPuSGHI-cA"
      }
    },
    {
      "cell_type": "code",
      "execution_count": null,
      "metadata": {
        "id": "N2xYriRRr2nd"
      },
      "outputs": [],
      "source": [
        "import numpy as np\n",
        "import pandas as pd\n",
        "import matplotlib.pyplot as plt\n",
        "import seaborn as sns"
      ]
    },
    {
      "cell_type": "code",
      "execution_count": null,
      "metadata": {
        "colab": {
          "base_uri": "https://localhost:8080/",
          "height": 273
        },
        "id": "yPzSubAPsGBU",
        "outputId": "e27e018a-8f56-40da-d817-6b8fadb984f7"
      },
      "outputs": [
        {
          "data": {
            "application/vnd.google.colaboratory.intrinsic+json": {
              "type": "dataframe",
              "variable_name": "dataset"
            },
            "text/html": [
              "\n",
              "  <div id=\"df-9c812fc1-8668-4f14-9493-7da67299e414\" class=\"colab-df-container\">\n",
              "    <div>\n",
              "<style scoped>\n",
              "    .dataframe tbody tr th:only-of-type {\n",
              "        vertical-align: middle;\n",
              "    }\n",
              "\n",
              "    .dataframe tbody tr th {\n",
              "        vertical-align: top;\n",
              "    }\n",
              "\n",
              "    .dataframe thead th {\n",
              "        text-align: right;\n",
              "    }\n",
              "</style>\n",
              "<table border=\"1\" class=\"dataframe\">\n",
              "  <thead>\n",
              "    <tr style=\"text-align: right;\">\n",
              "      <th></th>\n",
              "      <th>ISS</th>\n",
              "      <th>NISS</th>\n",
              "      <th>PS14</th>\n",
              "      <th>Age</th>\n",
              "      <th>WBC [109/L]_T1</th>\n",
              "      <th>NEUT [109/L]_T1</th>\n",
              "      <th>LYMPH [109/L]_T1</th>\n",
              "      <th>MONO [109/L]_T1</th>\n",
              "      <th>IG [109/L]_T1</th>\n",
              "      <th>NEUT %_T1</th>\n",
              "      <th>...</th>\n",
              "      <th>Eff_Mem_Cyto_T3</th>\n",
              "      <th>IL1-Ra_T3</th>\n",
              "      <th>IL-6_T3</th>\n",
              "      <th>IL-8_T3</th>\n",
              "      <th>IL-10_T3</th>\n",
              "      <th>G-CSF_T3</th>\n",
              "      <th>MCP-1_T3</th>\n",
              "      <th>TNF-A_T3</th>\n",
              "      <th>Cortisol (ng/ml)_T3</th>\n",
              "      <th>Label</th>\n",
              "    </tr>\n",
              "  </thead>\n",
              "  <tbody>\n",
              "    <tr>\n",
              "      <th>0</th>\n",
              "      <td>11</td>\n",
              "      <td>11</td>\n",
              "      <td>97.21493</td>\n",
              "      <td>41</td>\n",
              "      <td>26.16</td>\n",
              "      <td>21.95</td>\n",
              "      <td>1.60</td>\n",
              "      <td>2.58</td>\n",
              "      <td>0.10</td>\n",
              "      <td>83.9</td>\n",
              "      <td>...</td>\n",
              "      <td>78.0</td>\n",
              "      <td>NaN</td>\n",
              "      <td>NaN</td>\n",
              "      <td>NaN</td>\n",
              "      <td>NaN</td>\n",
              "      <td>NaN</td>\n",
              "      <td>NaN</td>\n",
              "      <td>NaN</td>\n",
              "      <td>180.6876</td>\n",
              "      <td>N</td>\n",
              "    </tr>\n",
              "    <tr>\n",
              "      <th>1</th>\n",
              "      <td>9</td>\n",
              "      <td>22</td>\n",
              "      <td>99.59795</td>\n",
              "      <td>22</td>\n",
              "      <td>8.28</td>\n",
              "      <td>4.21</td>\n",
              "      <td>3.53</td>\n",
              "      <td>0.33</td>\n",
              "      <td>0.04</td>\n",
              "      <td>50.9</td>\n",
              "      <td>...</td>\n",
              "      <td>33.0</td>\n",
              "      <td>237.32</td>\n",
              "      <td>75.04</td>\n",
              "      <td>66.47</td>\n",
              "      <td>59.20</td>\n",
              "      <td>88.73</td>\n",
              "      <td>2.89</td>\n",
              "      <td>39.96</td>\n",
              "      <td>133.6386</td>\n",
              "      <td>Y</td>\n",
              "    </tr>\n",
              "    <tr>\n",
              "      <th>2</th>\n",
              "      <td>14</td>\n",
              "      <td>17</td>\n",
              "      <td>99.10462</td>\n",
              "      <td>47</td>\n",
              "      <td>9.24</td>\n",
              "      <td>4.52</td>\n",
              "      <td>3.73</td>\n",
              "      <td>0.45</td>\n",
              "      <td>0.16</td>\n",
              "      <td>49.0</td>\n",
              "      <td>...</td>\n",
              "      <td>NaN</td>\n",
              "      <td>179.18</td>\n",
              "      <td>34.76</td>\n",
              "      <td>58.45</td>\n",
              "      <td>171.43</td>\n",
              "      <td>84.37</td>\n",
              "      <td>0.01</td>\n",
              "      <td>85.15</td>\n",
              "      <td>181.1892</td>\n",
              "      <td>N</td>\n",
              "    </tr>\n",
              "    <tr>\n",
              "      <th>3</th>\n",
              "      <td>4</td>\n",
              "      <td>12</td>\n",
              "      <td>99.85114</td>\n",
              "      <td>38</td>\n",
              "      <td>11.54</td>\n",
              "      <td>6.37</td>\n",
              "      <td>4.18</td>\n",
              "      <td>0.65</td>\n",
              "      <td>0.09</td>\n",
              "      <td>55.2</td>\n",
              "      <td>...</td>\n",
              "      <td>38.0</td>\n",
              "      <td>1643.40</td>\n",
              "      <td>1353.66</td>\n",
              "      <td>193.49</td>\n",
              "      <td>2100.26</td>\n",
              "      <td>292.98</td>\n",
              "      <td>646.47</td>\n",
              "      <td>1267.07</td>\n",
              "      <td>194.7159</td>\n",
              "      <td>N</td>\n",
              "    </tr>\n",
              "    <tr>\n",
              "      <th>4</th>\n",
              "      <td>24</td>\n",
              "      <td>34</td>\n",
              "      <td>87.32603</td>\n",
              "      <td>78</td>\n",
              "      <td>17.43</td>\n",
              "      <td>12.48</td>\n",
              "      <td>3.46</td>\n",
              "      <td>1.10</td>\n",
              "      <td>0.38</td>\n",
              "      <td>71.7</td>\n",
              "      <td>...</td>\n",
              "      <td>67.0</td>\n",
              "      <td>NaN</td>\n",
              "      <td>NaN</td>\n",
              "      <td>NaN</td>\n",
              "      <td>NaN</td>\n",
              "      <td>NaN</td>\n",
              "      <td>NaN</td>\n",
              "      <td>NaN</td>\n",
              "      <td>259.6209</td>\n",
              "      <td>Y</td>\n",
              "    </tr>\n",
              "  </tbody>\n",
              "</table>\n",
              "<p>5 rows × 197 columns</p>\n",
              "</div>\n",
              "    <div class=\"colab-df-buttons\">\n",
              "\n",
              "  <div class=\"colab-df-container\">\n",
              "    <button class=\"colab-df-convert\" onclick=\"convertToInteractive('df-9c812fc1-8668-4f14-9493-7da67299e414')\"\n",
              "            title=\"Convert this dataframe to an interactive table.\"\n",
              "            style=\"display:none;\">\n",
              "\n",
              "  <svg xmlns=\"http://www.w3.org/2000/svg\" height=\"24px\" viewBox=\"0 -960 960 960\">\n",
              "    <path d=\"M120-120v-720h720v720H120Zm60-500h600v-160H180v160Zm220 220h160v-160H400v160Zm0 220h160v-160H400v160ZM180-400h160v-160H180v160Zm440 0h160v-160H620v160ZM180-180h160v-160H180v160Zm440 0h160v-160H620v160Z\"/>\n",
              "  </svg>\n",
              "    </button>\n",
              "\n",
              "  <style>\n",
              "    .colab-df-container {\n",
              "      display:flex;\n",
              "      gap: 12px;\n",
              "    }\n",
              "\n",
              "    .colab-df-convert {\n",
              "      background-color: #E8F0FE;\n",
              "      border: none;\n",
              "      border-radius: 50%;\n",
              "      cursor: pointer;\n",
              "      display: none;\n",
              "      fill: #1967D2;\n",
              "      height: 32px;\n",
              "      padding: 0 0 0 0;\n",
              "      width: 32px;\n",
              "    }\n",
              "\n",
              "    .colab-df-convert:hover {\n",
              "      background-color: #E2EBFA;\n",
              "      box-shadow: 0px 1px 2px rgba(60, 64, 67, 0.3), 0px 1px 3px 1px rgba(60, 64, 67, 0.15);\n",
              "      fill: #174EA6;\n",
              "    }\n",
              "\n",
              "    .colab-df-buttons div {\n",
              "      margin-bottom: 4px;\n",
              "    }\n",
              "\n",
              "    [theme=dark] .colab-df-convert {\n",
              "      background-color: #3B4455;\n",
              "      fill: #D2E3FC;\n",
              "    }\n",
              "\n",
              "    [theme=dark] .colab-df-convert:hover {\n",
              "      background-color: #434B5C;\n",
              "      box-shadow: 0px 1px 3px 1px rgba(0, 0, 0, 0.15);\n",
              "      filter: drop-shadow(0px 1px 2px rgba(0, 0, 0, 0.3));\n",
              "      fill: #FFFFFF;\n",
              "    }\n",
              "  </style>\n",
              "\n",
              "    <script>\n",
              "      const buttonEl =\n",
              "        document.querySelector('#df-9c812fc1-8668-4f14-9493-7da67299e414 button.colab-df-convert');\n",
              "      buttonEl.style.display =\n",
              "        google.colab.kernel.accessAllowed ? 'block' : 'none';\n",
              "\n",
              "      async function convertToInteractive(key) {\n",
              "        const element = document.querySelector('#df-9c812fc1-8668-4f14-9493-7da67299e414');\n",
              "        const dataTable =\n",
              "          await google.colab.kernel.invokeFunction('convertToInteractive',\n",
              "                                                    [key], {});\n",
              "        if (!dataTable) return;\n",
              "\n",
              "        const docLinkHtml = 'Like what you see? Visit the ' +\n",
              "          '<a target=\"_blank\" href=https://colab.research.google.com/notebooks/data_table.ipynb>data table notebook</a>'\n",
              "          + ' to learn more about interactive tables.';\n",
              "        element.innerHTML = '';\n",
              "        dataTable['output_type'] = 'display_data';\n",
              "        await google.colab.output.renderOutput(dataTable, element);\n",
              "        const docLink = document.createElement('div');\n",
              "        docLink.innerHTML = docLinkHtml;\n",
              "        element.appendChild(docLink);\n",
              "      }\n",
              "    </script>\n",
              "  </div>\n",
              "\n",
              "\n",
              "<div id=\"df-3dcaa1cc-433c-4308-8f03-86bce33eb013\">\n",
              "  <button class=\"colab-df-quickchart\" onclick=\"quickchart('df-3dcaa1cc-433c-4308-8f03-86bce33eb013')\"\n",
              "            title=\"Suggest charts\"\n",
              "            style=\"display:none;\">\n",
              "\n",
              "<svg xmlns=\"http://www.w3.org/2000/svg\" height=\"24px\"viewBox=\"0 0 24 24\"\n",
              "     width=\"24px\">\n",
              "    <g>\n",
              "        <path d=\"M19 3H5c-1.1 0-2 .9-2 2v14c0 1.1.9 2 2 2h14c1.1 0 2-.9 2-2V5c0-1.1-.9-2-2-2zM9 17H7v-7h2v7zm4 0h-2V7h2v10zm4 0h-2v-4h2v4z\"/>\n",
              "    </g>\n",
              "</svg>\n",
              "  </button>\n",
              "\n",
              "<style>\n",
              "  .colab-df-quickchart {\n",
              "      --bg-color: #E8F0FE;\n",
              "      --fill-color: #1967D2;\n",
              "      --hover-bg-color: #E2EBFA;\n",
              "      --hover-fill-color: #174EA6;\n",
              "      --disabled-fill-color: #AAA;\n",
              "      --disabled-bg-color: #DDD;\n",
              "  }\n",
              "\n",
              "  [theme=dark] .colab-df-quickchart {\n",
              "      --bg-color: #3B4455;\n",
              "      --fill-color: #D2E3FC;\n",
              "      --hover-bg-color: #434B5C;\n",
              "      --hover-fill-color: #FFFFFF;\n",
              "      --disabled-bg-color: #3B4455;\n",
              "      --disabled-fill-color: #666;\n",
              "  }\n",
              "\n",
              "  .colab-df-quickchart {\n",
              "    background-color: var(--bg-color);\n",
              "    border: none;\n",
              "    border-radius: 50%;\n",
              "    cursor: pointer;\n",
              "    display: none;\n",
              "    fill: var(--fill-color);\n",
              "    height: 32px;\n",
              "    padding: 0;\n",
              "    width: 32px;\n",
              "  }\n",
              "\n",
              "  .colab-df-quickchart:hover {\n",
              "    background-color: var(--hover-bg-color);\n",
              "    box-shadow: 0 1px 2px rgba(60, 64, 67, 0.3), 0 1px 3px 1px rgba(60, 64, 67, 0.15);\n",
              "    fill: var(--button-hover-fill-color);\n",
              "  }\n",
              "\n",
              "  .colab-df-quickchart-complete:disabled,\n",
              "  .colab-df-quickchart-complete:disabled:hover {\n",
              "    background-color: var(--disabled-bg-color);\n",
              "    fill: var(--disabled-fill-color);\n",
              "    box-shadow: none;\n",
              "  }\n",
              "\n",
              "  .colab-df-spinner {\n",
              "    border: 2px solid var(--fill-color);\n",
              "    border-color: transparent;\n",
              "    border-bottom-color: var(--fill-color);\n",
              "    animation:\n",
              "      spin 1s steps(1) infinite;\n",
              "  }\n",
              "\n",
              "  @keyframes spin {\n",
              "    0% {\n",
              "      border-color: transparent;\n",
              "      border-bottom-color: var(--fill-color);\n",
              "      border-left-color: var(--fill-color);\n",
              "    }\n",
              "    20% {\n",
              "      border-color: transparent;\n",
              "      border-left-color: var(--fill-color);\n",
              "      border-top-color: var(--fill-color);\n",
              "    }\n",
              "    30% {\n",
              "      border-color: transparent;\n",
              "      border-left-color: var(--fill-color);\n",
              "      border-top-color: var(--fill-color);\n",
              "      border-right-color: var(--fill-color);\n",
              "    }\n",
              "    40% {\n",
              "      border-color: transparent;\n",
              "      border-right-color: var(--fill-color);\n",
              "      border-top-color: var(--fill-color);\n",
              "    }\n",
              "    60% {\n",
              "      border-color: transparent;\n",
              "      border-right-color: var(--fill-color);\n",
              "    }\n",
              "    80% {\n",
              "      border-color: transparent;\n",
              "      border-right-color: var(--fill-color);\n",
              "      border-bottom-color: var(--fill-color);\n",
              "    }\n",
              "    90% {\n",
              "      border-color: transparent;\n",
              "      border-bottom-color: var(--fill-color);\n",
              "    }\n",
              "  }\n",
              "</style>\n",
              "\n",
              "  <script>\n",
              "    async function quickchart(key) {\n",
              "      const quickchartButtonEl =\n",
              "        document.querySelector('#' + key + ' button');\n",
              "      quickchartButtonEl.disabled = true;  // To prevent multiple clicks.\n",
              "      quickchartButtonEl.classList.add('colab-df-spinner');\n",
              "      try {\n",
              "        const charts = await google.colab.kernel.invokeFunction(\n",
              "            'suggestCharts', [key], {});\n",
              "      } catch (error) {\n",
              "        console.error('Error during call to suggestCharts:', error);\n",
              "      }\n",
              "      quickchartButtonEl.classList.remove('colab-df-spinner');\n",
              "      quickchartButtonEl.classList.add('colab-df-quickchart-complete');\n",
              "    }\n",
              "    (() => {\n",
              "      let quickchartButtonEl =\n",
              "        document.querySelector('#df-3dcaa1cc-433c-4308-8f03-86bce33eb013 button');\n",
              "      quickchartButtonEl.style.display =\n",
              "        google.colab.kernel.accessAllowed ? 'block' : 'none';\n",
              "    })();\n",
              "  </script>\n",
              "</div>\n",
              "\n",
              "    </div>\n",
              "  </div>\n"
            ],
            "text/plain": [
              "   ISS  NISS      PS14  Age  WBC [109/L]_T1  NEUT [109/L]_T1  \\\n",
              "0   11    11  97.21493   41           26.16            21.95   \n",
              "1    9    22  99.59795   22            8.28             4.21   \n",
              "2   14    17  99.10462   47            9.24             4.52   \n",
              "3    4    12  99.85114   38           11.54             6.37   \n",
              "4   24    34  87.32603   78           17.43            12.48   \n",
              "\n",
              "   LYMPH [109/L]_T1  MONO [109/L]_T1  IG [109/L]_T1  NEUT %_T1  ...  \\\n",
              "0              1.60             2.58           0.10       83.9  ...   \n",
              "1              3.53             0.33           0.04       50.9  ...   \n",
              "2              3.73             0.45           0.16       49.0  ...   \n",
              "3              4.18             0.65           0.09       55.2  ...   \n",
              "4              3.46             1.10           0.38       71.7  ...   \n",
              "\n",
              "   Eff_Mem_Cyto_T3  IL1-Ra_T3  IL-6_T3  IL-8_T3  IL-10_T3  G-CSF_T3  MCP-1_T3  \\\n",
              "0             78.0        NaN      NaN      NaN       NaN       NaN       NaN   \n",
              "1             33.0     237.32    75.04    66.47     59.20     88.73      2.89   \n",
              "2              NaN     179.18    34.76    58.45    171.43     84.37      0.01   \n",
              "3             38.0    1643.40  1353.66   193.49   2100.26    292.98    646.47   \n",
              "4             67.0        NaN      NaN      NaN       NaN       NaN       NaN   \n",
              "\n",
              "   TNF-A_T3  Cortisol (ng/ml)_T3  Label  \n",
              "0       NaN             180.6876      N  \n",
              "1     39.96             133.6386      Y  \n",
              "2     85.15             181.1892      N  \n",
              "3   1267.07             194.7159      N  \n",
              "4       NaN             259.6209      Y  \n",
              "\n",
              "[5 rows x 197 columns]"
            ]
          },
          "execution_count": 2,
          "metadata": {},
          "output_type": "execute_result"
        }
      ],
      "source": [
        "# Getting the data into a dataframe and taking a first look\n",
        "dataset = pd.read_csv('/content/dataset.csv')\n",
        "dataset.head()"
      ]
    },
    {
      "cell_type": "code",
      "execution_count": null,
      "metadata": {
        "colab": {
          "base_uri": "https://localhost:8080/",
          "height": 933
        },
        "id": "YRiPPDtVAqPU",
        "outputId": "fc481ee1-64d4-4c2f-91a4-61c88223825d"
      },
      "outputs": [
        {
          "data": {
            "image/png": "[encoded data removed]",
            "text/plain": [
              "<Figure size 640x480 with 2 Axes>"
            ]
          },
          "metadata": {},
          "output_type": "display_data"
        },
        {
          "data": {
            "image/png": "[encoded data removed]",
            "text/plain": [
              "<Figure size 640x480 with 1 Axes>"
            ]
          },
          "metadata": {},
          "output_type": "display_data"
        }
      ],
      "source": [
        "\n",
        "\n",
        "# Data for the heatmap\n",
        "data = np.array([\n",
        "    [109, 109, 109, 109, 109, 109, 109, 109, 109, 109, 109, 109, 109, 109, 109, 109, 109, 109, 109],\n",
        "    [192, 192, 192, 192, 192, 192, 192, 192, 192, 192, 192, 192, 192, 192, 192, 192, 192, 192, 192],\n",
        "    [341, 341, 341, 341, 341, 341, 341, 341, 341, 341, 341, 341, 341, 341, 341, 341, 341, 341, 341],\n",
        "    [424, 424, 424, 424, 424, 424, 424, 424, 424, 424, 424, 424, 424, 424, 424, 424, 424, 424, 424],\n",
        "    [500, 500, 500, 500, 500, 500, 500, 500, 500, 500, 500, 500, 500, 500, 500, 500, 500, 500, 500]\n",
        "])\n",
        "\n",
        "# Define the row and column labels\n",
        "row_labels = [\"ISSNISSPS14AgeWBC\", \"T1NEUT\", \"T1LYMPH\", \"T1MONO\", \"T1IG\", \"T1NEUT %\", \"T1LYMPH %\", \"T1MONO %\", \"T1IG %\", \"Eff_Mem_Cyto\", \"T3IL1-Ra\", \"T3IL-6\", \"T3IL-8\", \"T3IL-10\", \"T3G-CSF\", \"T3MCP-1\", \"T3TNF-A\", \"T3Cortisol (ng/ml)\", \"T3Label0111197\"]\n",
        "col_labels = [\"N1922\", \"Y2141\", \"N3412\", \"N4243\", \"N5001\"]\n",
        "\n",
        "# Create the heatmap\n",
        "plt.imshow(data, cmap=\"coolwarm\")\n",
        "plt.colorbar()\n",
        "plt.xticks(range(len(col_labels)), col_labels)\n",
        "plt.yticks(range(len(row_labels)), row_labels)\n",
        "plt.suptitle(\"Heatmap of Blood Cell Counts\")\n",
        "plt.show()\n",
        "\n",
        "# Convert the heatmap to a bar graph\n",
        "target_industries = [\"N1922\", \"Y2141\", \"N3412\", \"N4243\", \"N5001\"]\n",
        "target_user_groups = [\"109\", \"192\", \"341\", \"424\", \"500\"]\n",
        "\n",
        "# Create the bar graph\n",
        "plt.bar(target_industries, target_user_groups)\n",
        "plt.xlabel(\"Subject ID\")\n",
        "plt.ylabel(\"Blood Cell Count\")\n",
        "plt.title(\"Bar Graph of Blood Cell Counts\")\n",
        "plt.show()\n"
      ]
    },
    {
      "cell_type": "code",
      "execution_count": null,
      "metadata": {
        "colab": {
          "base_uri": "https://localhost:8080/",
          "height": 431
        },
        "id": "QE_gynRpsPAN",
        "outputId": "77e69358-7625-4cbf-e6b6-78845b94fd3f"
      },
      "outputs": [
        {
          "data": {
            "text/plain": [
              "<Axes: >"
            ]
          },
          "execution_count": 4,
          "metadata": {},
          "output_type": "execute_result"
        },
        {
          "data": {
            "image/png": "[encoded data removed]",
            "text/plain": [
              "<Figure size 640x480 with 1 Axes>"
            ]
          },
          "metadata": {},
          "output_type": "display_data"
        }
      ],
      "source": [
        "sns.heatmap(dataset.isnull(), xticklabels = False, cbar = False, cmap = 'Blues')\n"
      ]
    },
    {
      "cell_type": "code",
      "execution_count": null,
      "metadata": {
        "id": "HQcHYW5FsViQ"
      },
      "outputs": [],
      "source": [
        "dataset.interpolate(method = \"linear\", limit = 5, inplace = True)"
      ]
    },
    {
      "cell_type": "code",
      "execution_count": null,
      "metadata": {
        "colab": {
          "base_uri": "https://localhost:8080/",
          "height": 431
        },
        "id": "9-9B7_bPwvhC",
        "outputId": "dba0c03c-deee-47cf-ff2e-0e7440b85767"
      },
      "outputs": [
        {
          "data": {
            "text/plain": [
              "<Axes: >"
            ]
          },
          "execution_count": 6,
          "metadata": {},
          "output_type": "execute_result"
        },
        {
          "data": {
            "image/png": "[encoded data removed]",
            "text/plain": [
              "<Figure size 640x480 with 1 Axes>"
            ]
          },
          "metadata": {},
          "output_type": "display_data"
        }
      ],
      "source": [
        "sns.heatmap(dataset.isnull(), xticklabels = False, cbar = False, cmap = 'Blues')"
      ]
    },
    {
      "cell_type": "code",
      "execution_count": null,
      "metadata": {
        "id": "E-h9xT3aifOO"
      },
      "outputs": [],
      "source": [
        "dataset.interpolate(method = \"linear\", limit = 5, inplace = True)"
      ]
    },
    {
      "cell_type": "code",
      "execution_count": null,
      "metadata": {
        "id": "e6L2GfLi-_w8"
      },
      "outputs": [],
      "source": [
        "dataset.fillna(0,inplace = True)\n"
      ]
    },
    {
      "cell_type": "code",
      "execution_count": null,
      "metadata": {
        "colab": {
          "base_uri": "https://localhost:8080/",
          "height": 431
        },
        "id": "OOye60P--sz8",
        "outputId": "648b17af-cd26-42f3-c0f2-bfd915429a39"
      },
      "outputs": [
        {
          "data": {
            "text/plain": [
              "<Axes: >"
            ]
          },
          "execution_count": 22,
          "metadata": {},
          "output_type": "execute_result"
        },
        {
          "data": {
            "image/png": "[encoded data removed]",
            "text/plain": [
              "<Figure size 640x480 with 1 Axes>"
            ]
          },
          "metadata": {},
          "output_type": "display_data"
        }
      ],
      "source": [
        "sns.heatmap(dataset.isnull(), xticklabels = False, cbar = False, cmap = 'Blues')"
      ]
    },
    {
      "cell_type": "code",
      "execution_count": null,
      "metadata": {
        "colab": {
          "base_uri": "https://localhost:8080/"
        },
        "id": "NX87V_oR-FiU",
        "outputId": "5f8c173d-c9d8-413d-a40f-2f2b0b0abbf6"
      },
      "outputs": [
        {
          "data": {
            "text/plain": [
              "ISS                      int64\n",
              "NISS                     int64\n",
              "PS14                   float64\n",
              "Age                      int64\n",
              "WBC [109/L]_T1         float64\n",
              "                        ...   \n",
              "G-CSF_T3               float64\n",
              "MCP-1_T3               float64\n",
              "TNF-A_T3               float64\n",
              "Cortisol (ng/ml)_T3    float64\n",
              "Label                   object\n",
              "Length: 197, dtype: object"
            ]
          },
          "execution_count": 23,
          "metadata": {},
          "output_type": "execute_result"
        }
      ],
      "source": [
        "dataset.dtypes"
      ]
    },
    {
      "cell_type": "code",
      "execution_count": null,
      "metadata": {
        "colab": {
          "base_uri": "https://localhost:8080/"
        },
        "id": "VTG3ctN0_amd",
        "outputId": "f13e4ad3-e541-45fa-85bc-eda6a2acecec"
      },
      "outputs": [
        {
          "data": {
            "text/plain": [
              "ISS                    0\n",
              "NISS                   0\n",
              "PS14                   0\n",
              "Age                    0\n",
              "WBC [109/L]_T1         0\n",
              "                      ..\n",
              "G-CSF_T3               0\n",
              "MCP-1_T3               0\n",
              "TNF-A_T3               0\n",
              "Cortisol (ng/ml)_T3    0\n",
              "Label                  0\n",
              "Length: 197, dtype: int64"
            ]
          },
          "execution_count": 24,
          "metadata": {},
          "output_type": "execute_result"
        }
      ],
      "source": [
        "dataset.isnull().sum()"
      ]
    },
    {
      "cell_type": "code",
      "execution_count": null,
      "metadata": {
        "id": "HP8uQmRO_fc-"
      },
      "outputs": [],
      "source": [
        "dataset.interpolate(method = \"linear\", limit = 5, inplace = True)"
      ]
    },
    {
      "cell_type": "code",
      "execution_count": null,
      "metadata": {
        "colab": {
          "base_uri": "https://localhost:8080/",
          "height": 431
        },
        "id": "QPVgMLpFABc1",
        "outputId": "22475c05-d27c-49da-c0b2-2c7751857f0c"
      },
      "outputs": [
        {
          "data": {
            "text/plain": [
              "<Axes: >"
            ]
          },
          "execution_count": 26,
          "metadata": {},
          "output_type": "execute_result"
        },
        {
          "data": {
            "image/png": "[encoded data removed]",
            "text/plain": [
              "<Figure size 640x480 with 1 Axes>"
            ]
          },
          "metadata": {},
          "output_type": "display_data"
        }
      ],
      "source": [
        "sns.heatmap(dataset.isnull(), xticklabels = False, cbar = False, cmap = 'Blues')"
      ]
    },
    {
      "cell_type": "code",
      "execution_count": null,
      "metadata": {
        "id": "0jjXkF3GAExk"
      },
      "outputs": [],
      "source": []
    },
    {
      "cell_type": "markdown",
      "metadata": {
        "id": "2g0aWndTAN4I"
      },
      "source": [
        "Training of the First Model\n"
      ]
    },
    {
      "cell_type": "code",
      "execution_count": null,
      "metadata": {
        "id": "f7t1qYi1ASQb"
      },
      "outputs": [],
      "source": [
        "# Separate the training data from the target data\n",
        "X = dataset.iloc[:, 0:-1]\n",
        "y = dataset.loc[:, 'Label']\n"
      ]
    },
    {
      "cell_type": "markdown",
      "source": [
        "##Logreg"
      ],
      "metadata": {
        "id": "0sCORq-FIt2t"
      }
    },
    {
      "cell_type": "code",
      "execution_count": null,
      "metadata": {
        "colab": {
          "base_uri": "https://localhost:8080/",
          "height": 75
        },
        "id": "D1VJNVVxAazk",
        "outputId": "18629716-a040-4c8e-8080-8bc918deb8b8"
      },
      "outputs": [
        {
          "data": {
            "text/html": [
              "<style>#sk-container-id-1 {color: black;background-color: white;}#sk-container-id-1 pre{padding: 0;}#sk-container-id-1 div.sk-toggleable {background-color: white;}#sk-container-id-1 label.sk-toggleable__label {cursor: pointer;display: block;width: 100%;margin-bottom: 0;padding: 0.3em;box-sizing: border-box;text-align: center;}#sk-container-id-1 label.sk-toggleable__label-arrow:before {content: \"▸\";float: left;margin-right: 0.25em;color: #696969;}#sk-container-id-1 label.sk-toggleable__label-arrow:hover:before {color: black;}#sk-container-id-1 div.sk-estimator:hover label.sk-toggleable__label-arrow:before {color: black;}#sk-container-id-1 div.sk-toggleable__content {max-height: 0;max-width: 0;overflow: hidden;text-align: left;background-color: #f0f8ff;}#sk-container-id-1 div.sk-toggleable__content pre {margin: 0.2em;color: black;border-radius: 0.25em;background-color: #f0f8ff;}#sk-container-id-1 input.sk-toggleable__control:checked~div.sk-toggleable__content {max-height: 200px;max-width: 100%;overflow: auto;}#sk-container-id-1 input.sk-toggleable__control:checked~label.sk-toggleable__label-arrow:before {content: \"▾\";}#sk-container-id-1 div.sk-estimator input.sk-toggleable__control:checked~label.sk-toggleable__label {background-color: #d4ebff;}#sk-container-id-1 div.sk-label input.sk-toggleable__control:checked~label.sk-toggleable__label {background-color: #d4ebff;}#sk-container-id-1 input.sk-hidden--visually {border: 0;clip: rect(1px 1px 1px 1px);clip: rect(1px, 1px, 1px, 1px);height: 1px;margin: -1px;overflow: hidden;padding: 0;position: absolute;width: 1px;}#sk-container-id-1 div.sk-estimator {font-family: monospace;background-color: #f0f8ff;border: 1px dotted black;border-radius: 0.25em;box-sizing: border-box;margin-bottom: 0.5em;}#sk-container-id-1 div.sk-estimator:hover {background-color: #d4ebff;}#sk-container-id-1 div.sk-parallel-item::after {content: \"\";width: 100%;border-bottom: 1px solid gray;flex-grow: 1;}#sk-container-id-1 div.sk-label:hover label.sk-toggleable__label {background-color: #d4ebff;}#sk-container-id-1 div.sk-serial::before {content: \"\";position: absolute;border-left: 1px solid gray;box-sizing: border-box;top: 0;bottom: 0;left: 50%;z-index: 0;}#sk-container-id-1 div.sk-serial {display: flex;flex-direction: column;align-items: center;background-color: white;padding-right: 0.2em;padding-left: 0.2em;position: relative;}#sk-container-id-1 div.sk-item {position: relative;z-index: 1;}#sk-container-id-1 div.sk-parallel {display: flex;align-items: stretch;justify-content: center;background-color: white;position: relative;}#sk-container-id-1 div.sk-item::before, #sk-container-id-1 div.sk-parallel-item::before {content: \"\";position: absolute;border-left: 1px solid gray;box-sizing: border-box;top: 0;bottom: 0;left: 50%;z-index: -1;}#sk-container-id-1 div.sk-parallel-item {display: flex;flex-direction: column;z-index: 1;position: relative;background-color: white;}#sk-container-id-1 div.sk-parallel-item:first-child::after {align-self: flex-end;width: 50%;}#sk-container-id-1 div.sk-parallel-item:last-child::after {align-self: flex-start;width: 50%;}#sk-container-id-1 div.sk-parallel-item:only-child::after {width: 0;}#sk-container-id-1 div.sk-dashed-wrapped {border: 1px dashed gray;margin: 0 0.4em 0.5em 0.4em;box-sizing: border-box;padding-bottom: 0.4em;background-color: white;}#sk-container-id-1 div.sk-label label {font-family: monospace;font-weight: bold;display: inline-block;line-height: 1.2em;}#sk-container-id-1 div.sk-label-container {text-align: center;}#sk-container-id-1 div.sk-container {/* jupyter's `normalize.less` sets `[hidden] { display: none; }` but bootstrap.min.css set `[hidden] { display: none !important; }` so we also need the `!important` here to be able to override the default hidden behavior on the sphinx rendered scikit-learn.org. See: https://github.com/scikit-learn/scikit-learn/issues/21755 */display: inline-block !important;position: relative;}#sk-container-id-1 div.sk-text-repr-fallback {display: none;}</style><div id=\"sk-container-id-1\" class=\"sk-top-container\"><div class=\"sk-text-repr-fallback\"><pre>LogisticRegression(max_iter=2500)</pre><b>In a Jupyter environment, please rerun this cell to show the HTML representation or trust the notebook. <br />On GitHub, the HTML representation is unable to render, please try loading this page with nbviewer.org.</b></div><div class=\"sk-container\" hidden><div class=\"sk-item\"><div class=\"sk-estimator sk-toggleable\"><input class=\"sk-toggleable__control sk-hidden--visually\" id=\"sk-estimator-id-1\" type=\"checkbox\" checked><label for=\"sk-estimator-id-1\" class=\"sk-toggleable__label sk-toggleable__label-arrow\">LogisticRegression</label><div class=\"sk-toggleable__content\"><pre>LogisticRegression(max_iter=2500)</pre></div></div></div></div></div>"
            ],
            "text/plain": [
              "LogisticRegression(max_iter=2500)"
            ]
          },
          "execution_count": 28,
          "metadata": {},
          "output_type": "execute_result"
        }
      ],
      "source": [
        "from sklearn.model_selection import train_test_split\n",
        "from sklearn.linear_model import LogisticRegression\n",
        "\n",
        "# Split the dataset into training and testing subsets\n",
        "X_train, X_test, y_train, y_test = train_test_split(X,y, test_size = 0.4 ,random_state= 0)\n",
        "\n",
        "# Training the logistic regression model\n",
        "logreg = LogisticRegression(max_iter = 2500)\n",
        "logreg.fit(X_train, y_train)"
      ]
    },
    {
      "cell_type": "markdown",
      "metadata": {
        "id": "0Lz5VpXuApsH"
      },
      "source": [
        "Done with the Training part"
      ]
    },
    {
      "cell_type": "code",
      "execution_count": null,
      "metadata": {
        "id": "gbm2o2J2BFim"
      },
      "outputs": [],
      "source": [
        "from sklearn.metrics import accuracy_score\n"
      ]
    },
    {
      "cell_type": "code",
      "execution_count": null,
      "metadata": {
        "colab": {
          "base_uri": "https://localhost:8080/"
        },
        "id": "PumJiXgCBp-e",
        "outputId": "8355638a-2df1-4801-8a64-198c9e81a56e"
      },
      "outputs": [
        {
          "name": "stdout",
          "output_type": "stream",
          "text": [
            "Test accuracy: 0.64\n"
          ]
        }
      ],
      "source": [
        "y_pred = logreg.predict(X_test)\n",
        "print(\"Test accuracy:\", np.round(accuracy_score(y_test, y_pred), 2))\n"
      ]
    },
    {
      "cell_type": "markdown",
      "metadata": {
        "id": "JIgUL_eeD4B4"
      },
      "source": [
        "A baseline accuracy of 64% was achieved, let's see if that score can be improved upon by using other methods."
      ]
    },
    {
      "cell_type": "code",
      "execution_count": null,
      "metadata": {
        "colab": {
          "base_uri": "https://localhost:8080/"
        },
        "id": "2DZ94splX_0Q",
        "outputId": "e4cefbf3-0cd5-4a2d-ae1f-82344111e53b"
      },
      "outputs": [
        {
          "name": "stdout",
          "output_type": "stream",
          "text": [
            "F1 score: 0.6666666666666665\n"
          ]
        }
      ],
      "source": [
        "from sklearn.metrics import f1_score\n",
        "\n",
        "\n",
        "f1 = f1_score(y_test, y_pred, pos_label='Y')\n",
        "\n",
        "print(\"F1 score:\", f1)"
      ]
    },
    {
      "cell_type": "code",
      "execution_count": null,
      "metadata": {
        "colab": {
          "base_uri": "https://localhost:8080/"
        },
        "id": "W9IYpdLrYm6R",
        "outputId": "468f32de-4e86-43e4-9958-53d9807627dc"
      },
      "outputs": [
        {
          "name": "stdout",
          "output_type": "stream",
          "text": [
            "Precision score: 0.75\n"
          ]
        }
      ],
      "source": [
        "#precision\n",
        "\n",
        "from sklearn.metrics import precision_score\n",
        "\n",
        "precision = precision_score(y_test, y_pred, pos_label='Y')\n",
        "\n",
        "print(\"Precision score:\", precision)\n"
      ]
    },
    {
      "cell_type": "code",
      "execution_count": null,
      "metadata": {
        "colab": {
          "base_uri": "https://localhost:8080/"
        },
        "id": "1WqlsfGpY32L",
        "outputId": "b497619d-4903-4c67-8f67-2c406c9a9d03"
      },
      "outputs": [
        {
          "name": "stdout",
          "output_type": "stream",
          "text": [
            "Recall score: 0.6\n"
          ]
        }
      ],
      "source": [
        "\n",
        "\n",
        "from sklearn.metrics import recall_score\n",
        "\n",
        "recall = recall_score(y_test, y_pred, pos_label='Y')\n",
        "print(\"Recall score:\", recall)\n"
      ]
    },
    {
      "cell_type": "code",
      "execution_count": null,
      "metadata": {
        "colab": {
          "base_uri": "https://localhost:8080/"
        },
        "id": "uYWGbIXXZF5S",
        "outputId": "8ec333e4-21be-4e63-b85d-f35db36f3d04"
      },
      "outputs": [
        {
          "name": "stdout",
          "output_type": "stream",
          "text": [
            "Macro average F1 score: 0.6376811594202898\n",
            "Weighted average F1 score: 0.6434782608695652\n"
          ]
        }
      ],
      "source": [
        "\n",
        "\n",
        "from sklearn.metrics import f1_score\n",
        "\n",
        "# Calculate the macro average F1 score\n",
        "macro_f1 = f1_score(y_test, y_pred, average='macro')\n",
        "\n",
        "# Calculate the weighted average F1 score\n",
        "weighted_f1 = f1_score(y_test, y_pred, average='weighted')\n",
        "\n",
        "# Print the results\n",
        "print(\"Macro average F1 score:\", macro_f1)\n",
        "print(\"Weighted average F1 score:\", weighted_f1)\n"
      ]
    },
    {
      "cell_type": "markdown",
      "source": [
        "AOC ROC"
      ],
      "metadata": {
        "id": "2B5F_oqYblgy"
      }
    },
    {
      "cell_type": "code",
      "execution_count": null,
      "metadata": {
        "id": "R0AcDSdp_ieT"
      },
      "outputs": [],
      "source": [
        "from sklearn.metrics import roc_auc_score, matthews_corrcoef"
      ]
    },
    {
      "cell_type": "code",
      "execution_count": null,
      "metadata": {
        "colab": {
          "base_uri": "https://localhost:8080/"
        },
        "id": "Brtd_hBO_mDW",
        "outputId": "53aa2fe9-bfdf-4b8a-dd80-9bf6a32fc128"
      },
      "outputs": [
        {
          "name": "stdout",
          "output_type": "stream",
          "text": [
            "AOC ROC: 0.7\n"
          ]
        }
      ],
      "source": [
        "roc_auc = roc_auc_score(y_test, logreg.predict_proba(X_test)[:, 1])\n",
        "print(\"AOC ROC:\", roc_auc)"
      ]
    },
    {
      "cell_type": "markdown",
      "source": [
        "MCC\n",
        "\n"
      ],
      "metadata": {
        "id": "riH7TPAIboC8"
      }
    },
    {
      "cell_type": "code",
      "execution_count": null,
      "metadata": {
        "colab": {
          "base_uri": "https://localhost:8080/"
        },
        "id": "phiO4KgM_pHi",
        "outputId": "bb5c0d32-6765-4c90-c582-ee11fd587494"
      },
      "outputs": [
        {
          "name": "stdout",
          "output_type": "stream",
          "text": [
            "MCC: 0.29417420270727607\n"
          ]
        }
      ],
      "source": [
        "mcc = matthews_corrcoef(y_test, logreg.predict(X_test))\n",
        "print(\"MCC:\", mcc)"
      ]
    },
    {
      "cell_type": "markdown",
      "source": [
        "Confusion Matrix"
      ],
      "metadata": {
        "id": "TPmZ8-BtcPwH"
      }
    },
    {
      "cell_type": "code",
      "source": [
        "from sklearn.metrics import confusion_matrix\n",
        "import seaborn as sns\n",
        "import matplotlib.pyplot as plt\n",
        "\n",
        "\n",
        "cm = confusion_matrix(y_test, y_pred)\n",
        "\n",
        "\n",
        "sns.heatmap(cm, annot=True, fmt=\"d\", cmap=\"Blues\")\n",
        "plt.xlabel(\"Predicted Label\")\n",
        "plt.ylabel(\"True Label\")\n",
        "plt.title(\"Confusion Matrix for LogReg\")\n",
        "plt.show()"
      ],
      "metadata": {
        "colab": {
          "base_uri": "https://localhost:8080/",
          "height": 472
        },
        "id": "hDTbgnGWcSqI",
        "outputId": "39385f58-e0ff-4a1b-901e-19362c934932"
      },
      "execution_count": 83,
      "outputs": [
        {
          "output_type": "display_data",
          "data": {
            "text/plain": [
              "<Figure size 640x480 with 2 Axes>"
            ],
            "image/png": "[encoded data removed]"
          },
          "metadata": {}
        }
      ]
    },
    {
      "cell_type": "markdown",
      "source": [
        "##Random Forest"
      ],
      "metadata": {
        "id": "KzYR6905IZNQ"
      }
    },
    {
      "cell_type": "markdown",
      "metadata": {
        "id": "evR6eNqJZWLN"
      },
      "source": [
        "**New Method - Random Forest for the better accruracy and scores**"
      ]
    },
    {
      "cell_type": "code",
      "execution_count": null,
      "metadata": {
        "id": "Wk4gfvygD46T"
      },
      "outputs": [],
      "source": [
        "from sklearn.ensemble import RandomForestClassifier"
      ]
    },
    {
      "cell_type": "code",
      "execution_count": null,
      "metadata": {
        "id": "Y4A4PTNfFq5K"
      },
      "outputs": [],
      "source": [
        "rfc=RandomForestClassifier(random_state=42)"
      ]
    },
    {
      "cell_type": "code",
      "execution_count": null,
      "metadata": {
        "id": "qBIZn4s-Ft1S"
      },
      "outputs": [],
      "source": [
        "param_grid = {\n",
        "    'n_estimators': [100,125,150,175,200,250,300,350,400,450,500],\n",
        "    'max_features': ['auto', 'sqrt', 'log2'],\n",
        "    'max_depth' : [4,5,6,7,8],\n",
        "    'criterion' :['gini', 'entropy']\n",
        "}"
      ]
    },
    {
      "cell_type": "code",
      "execution_count": null,
      "metadata": {
        "id": "TX0bHvSMFwrI"
      },
      "outputs": [],
      "source": [
        "from sklearn.model_selection import GridSearchCV\n"
      ]
    },
    {
      "cell_type": "code",
      "execution_count": null,
      "metadata": {
        "colab": {
          "background_save": true
        },
        "id": "P3mcE7RdGH8v",
        "outputId": "d7d79614-00d6-4820-b3f5-c937a9917dcc"
      },
      "outputs": [
        {
          "data": {
            "text/html": [
              "<style>#sk-container-id-2 {color: black;background-color: white;}#sk-container-id-2 pre{padding: 0;}#sk-container-id-2 div.sk-toggleable {background-color: white;}#sk-container-id-2 label.sk-toggleable__label {cursor: pointer;display: block;width: 100%;margin-bottom: 0;padding: 0.3em;box-sizing: border-box;text-align: center;}#sk-container-id-2 label.sk-toggleable__label-arrow:before {content: \"▸\";float: left;margin-right: 0.25em;color: #696969;}#sk-container-id-2 label.sk-toggleable__label-arrow:hover:before {color: black;}#sk-container-id-2 div.sk-estimator:hover label.sk-toggleable__label-arrow:before {color: black;}#sk-container-id-2 div.sk-toggleable__content {max-height: 0;max-width: 0;overflow: hidden;text-align: left;background-color: #f0f8ff;}#sk-container-id-2 div.sk-toggleable__content pre {margin: 0.2em;color: black;border-radius: 0.25em;background-color: #f0f8ff;}#sk-container-id-2 input.sk-toggleable__control:checked~div.sk-toggleable__content {max-height: 200px;max-width: 100%;overflow: auto;}#sk-container-id-2 input.sk-toggleable__control:checked~label.sk-toggleable__label-arrow:before {content: \"▾\";}#sk-container-id-2 div.sk-estimator input.sk-toggleable__control:checked~label.sk-toggleable__label {background-color: #d4ebff;}#sk-container-id-2 div.sk-label input.sk-toggleable__control:checked~label.sk-toggleable__label {background-color: #d4ebff;}#sk-container-id-2 input.sk-hidden--visually {border: 0;clip: rect(1px 1px 1px 1px);clip: rect(1px, 1px, 1px, 1px);height: 1px;margin: -1px;overflow: hidden;padding: 0;position: absolute;width: 1px;}#sk-container-id-2 div.sk-estimator {font-family: monospace;background-color: #f0f8ff;border: 1px dotted black;border-radius: 0.25em;box-sizing: border-box;margin-bottom: 0.5em;}#sk-container-id-2 div.sk-estimator:hover {background-color: #d4ebff;}#sk-container-id-2 div.sk-parallel-item::after {content: \"\";width: 100%;border-bottom: 1px solid gray;flex-grow: 1;}#sk-container-id-2 div.sk-label:hover label.sk-toggleable__label {background-color: #d4ebff;}#sk-container-id-2 div.sk-serial::before {content: \"\";position: absolute;border-left: 1px solid gray;box-sizing: border-box;top: 0;bottom: 0;left: 50%;z-index: 0;}#sk-container-id-2 div.sk-serial {display: flex;flex-direction: column;align-items: center;background-color: white;padding-right: 0.2em;padding-left: 0.2em;position: relative;}#sk-container-id-2 div.sk-item {position: relative;z-index: 1;}#sk-container-id-2 div.sk-parallel {display: flex;align-items: stretch;justify-content: center;background-color: white;position: relative;}#sk-container-id-2 div.sk-item::before, #sk-container-id-2 div.sk-parallel-item::before {content: \"\";position: absolute;border-left: 1px solid gray;box-sizing: border-box;top: 0;bottom: 0;left: 50%;z-index: -1;}#sk-container-id-2 div.sk-parallel-item {display: flex;flex-direction: column;z-index: 1;position: relative;background-color: white;}#sk-container-id-2 div.sk-parallel-item:first-child::after {align-self: flex-end;width: 50%;}#sk-container-id-2 div.sk-parallel-item:last-child::after {align-self: flex-start;width: 50%;}#sk-container-id-2 div.sk-parallel-item:only-child::after {width: 0;}#sk-container-id-2 div.sk-dashed-wrapped {border: 1px dashed gray;margin: 0 0.4em 0.5em 0.4em;box-sizing: border-box;padding-bottom: 0.4em;background-color: white;}#sk-container-id-2 div.sk-label label {font-family: monospace;font-weight: bold;display: inline-block;line-height: 1.2em;}#sk-container-id-2 div.sk-label-container {text-align: center;}#sk-container-id-2 div.sk-container {/* jupyter's `normalize.less` sets `[hidden] { display: none; }` but bootstrap.min.css set `[hidden] { display: none !important; }` so we also need the `!important` here to be able to override the default hidden behavior on the sphinx rendered scikit-learn.org. See: https://github.com/scikit-learn/scikit-learn/issues/21755 */display: inline-block !important;position: relative;}#sk-container-id-2 div.sk-text-repr-fallback {display: none;}</style><div id=\"sk-container-id-2\" class=\"sk-top-container\"><div class=\"sk-text-repr-fallback\"><pre>GridSearchCV(cv=5, estimator=RandomForestClassifier(random_state=42),\n",
              "             param_grid={&#x27;criterion&#x27;: [&#x27;gini&#x27;, &#x27;entropy&#x27;],\n",
              "                         &#x27;max_depth&#x27;: [4, 5, 6, 7, 8],\n",
              "                         &#x27;max_features&#x27;: [&#x27;auto&#x27;, &#x27;sqrt&#x27;, &#x27;log2&#x27;],\n",
              "                         &#x27;n_estimators&#x27;: [100, 125, 150, 175, 200, 250, 300,\n",
              "                                          350, 400, 450, 500]})</pre><b>In a Jupyter environment, please rerun this cell to show the HTML representation or trust the notebook. <br />On GitHub, the HTML representation is unable to render, please try loading this page with nbviewer.org.</b></div><div class=\"sk-container\" hidden><div class=\"sk-item sk-dashed-wrapped\"><div class=\"sk-label-container\"><div class=\"sk-label sk-toggleable\"><input class=\"sk-toggleable__control sk-hidden--visually\" id=\"sk-estimator-id-2\" type=\"checkbox\" ><label for=\"sk-estimator-id-2\" class=\"sk-toggleable__label sk-toggleable__label-arrow\">GridSearchCV</label><div class=\"sk-toggleable__content\"><pre>GridSearchCV(cv=5, estimator=RandomForestClassifier(random_state=42),\n",
              "             param_grid={&#x27;criterion&#x27;: [&#x27;gini&#x27;, &#x27;entropy&#x27;],\n",
              "                         &#x27;max_depth&#x27;: [4, 5, 6, 7, 8],\n",
              "                         &#x27;max_features&#x27;: [&#x27;auto&#x27;, &#x27;sqrt&#x27;, &#x27;log2&#x27;],\n",
              "                         &#x27;n_estimators&#x27;: [100, 125, 150, 175, 200, 250, 300,\n",
              "                                          350, 400, 450, 500]})</pre></div></div></div><div class=\"sk-parallel\"><div class=\"sk-parallel-item\"><div class=\"sk-item\"><div class=\"sk-label-container\"><div class=\"sk-label sk-toggleable\"><input class=\"sk-toggleable__control sk-hidden--visually\" id=\"sk-estimator-id-3\" type=\"checkbox\" ><label for=\"sk-estimator-id-3\" class=\"sk-toggleable__label sk-toggleable__label-arrow\">estimator: RandomForestClassifier</label><div class=\"sk-toggleable__content\"><pre>RandomForestClassifier(random_state=42)</pre></div></div></div><div class=\"sk-serial\"><div class=\"sk-item\"><div class=\"sk-estimator sk-toggleable\"><input class=\"sk-toggleable__control sk-hidden--visually\" id=\"sk-estimator-id-4\" type=\"checkbox\" ><label for=\"sk-estimator-id-4\" class=\"sk-toggleable__label sk-toggleable__label-arrow\">RandomForestClassifier</label><div class=\"sk-toggleable__content\"><pre>RandomForestClassifier(random_state=42)</pre></div></div></div></div></div></div></div></div></div></div>"
            ],
            "text/plain": [
              "GridSearchCV(cv=5, estimator=RandomForestClassifier(random_state=42),\n",
              "             param_grid={'criterion': ['gini', 'entropy'],\n",
              "                         'max_depth': [4, 5, 6, 7, 8],\n",
              "                         'max_features': ['auto', 'sqrt', 'log2'],\n",
              "                         'n_estimators': [100, 125, 150, 175, 200, 250, 300,\n",
              "                                          350, 400, 450, 500]})"
            ]
          },
          "execution_count": 38,
          "metadata": {},
          "output_type": "execute_result"
        }
      ],
      "source": [
        "import warnings\n",
        "warnings.filterwarnings('ignore')\n",
        "\n",
        "CV_rfc = GridSearchCV(estimator=rfc, param_grid=param_grid, cv= 5)\n",
        "CV_rfc.fit(X_train, y_train)"
      ]
    },
    {
      "cell_type": "code",
      "execution_count": null,
      "metadata": {
        "colab": {
          "base_uri": "https://localhost:8080/"
        },
        "id": "p_IJ1481Ik71",
        "outputId": "1e92c10c-7a0a-43cb-fbbc-54de328813d1"
      },
      "outputs": [
        {
          "data": {
            "text/plain": [
              "{'criterion': 'gini',\n",
              " 'max_depth': 4,\n",
              " 'max_features': 'auto',\n",
              " 'n_estimators': 200}"
            ]
          },
          "execution_count": 25,
          "metadata": {},
          "output_type": "execute_result"
        }
      ],
      "source": [
        "CV_rfc.best_params_"
      ]
    },
    {
      "cell_type": "code",
      "execution_count": null,
      "metadata": {
        "id": "YgbgpVlLLTPf"
      },
      "outputs": [],
      "source": [
        "rfc=RandomForestClassifier(criterion = 'entropy',\n",
        " max_depth = 4,\n",
        " max_features = 'log2',\n",
        " n_estimators = 125,\n",
        "random_state=42)"
      ]
    },
    {
      "cell_type": "code",
      "execution_count": null,
      "metadata": {
        "colab": {
          "base_uri": "https://localhost:8080/",
          "height": 92
        },
        "id": "sWBb6SF-LX0C",
        "outputId": "03200c80-1352-4345-8b00-0227fbab7bbf"
      },
      "outputs": [
        {
          "data": {
            "text/html": [
              "<style>#sk-container-id-3 {color: black;background-color: white;}#sk-container-id-3 pre{padding: 0;}#sk-container-id-3 div.sk-toggleable {background-color: white;}#sk-container-id-3 label.sk-toggleable__label {cursor: pointer;display: block;width: 100%;margin-bottom: 0;padding: 0.3em;box-sizing: border-box;text-align: center;}#sk-container-id-3 label.sk-toggleable__label-arrow:before {content: \"▸\";float: left;margin-right: 0.25em;color: #696969;}#sk-container-id-3 label.sk-toggleable__label-arrow:hover:before {color: black;}#sk-container-id-3 div.sk-estimator:hover label.sk-toggleable__label-arrow:before {color: black;}#sk-container-id-3 div.sk-toggleable__content {max-height: 0;max-width: 0;overflow: hidden;text-align: left;background-color: #f0f8ff;}#sk-container-id-3 div.sk-toggleable__content pre {margin: 0.2em;color: black;border-radius: 0.25em;background-color: #f0f8ff;}#sk-container-id-3 input.sk-toggleable__control:checked~div.sk-toggleable__content {max-height: 200px;max-width: 100%;overflow: auto;}#sk-container-id-3 input.sk-toggleable__control:checked~label.sk-toggleable__label-arrow:before {content: \"▾\";}#sk-container-id-3 div.sk-estimator input.sk-toggleable__control:checked~label.sk-toggleable__label {background-color: #d4ebff;}#sk-container-id-3 div.sk-label input.sk-toggleable__control:checked~label.sk-toggleable__label {background-color: #d4ebff;}#sk-container-id-3 input.sk-hidden--visually {border: 0;clip: rect(1px 1px 1px 1px);clip: rect(1px, 1px, 1px, 1px);height: 1px;margin: -1px;overflow: hidden;padding: 0;position: absolute;width: 1px;}#sk-container-id-3 div.sk-estimator {font-family: monospace;background-color: #f0f8ff;border: 1px dotted black;border-radius: 0.25em;box-sizing: border-box;margin-bottom: 0.5em;}#sk-container-id-3 div.sk-estimator:hover {background-color: #d4ebff;}#sk-container-id-3 div.sk-parallel-item::after {content: \"\";width: 100%;border-bottom: 1px solid gray;flex-grow: 1;}#sk-container-id-3 div.sk-label:hover label.sk-toggleable__label {background-color: #d4ebff;}#sk-container-id-3 div.sk-serial::before {content: \"\";position: absolute;border-left: 1px solid gray;box-sizing: border-box;top: 0;bottom: 0;left: 50%;z-index: 0;}#sk-container-id-3 div.sk-serial {display: flex;flex-direction: column;align-items: center;background-color: white;padding-right: 0.2em;padding-left: 0.2em;position: relative;}#sk-container-id-3 div.sk-item {position: relative;z-index: 1;}#sk-container-id-3 div.sk-parallel {display: flex;align-items: stretch;justify-content: center;background-color: white;position: relative;}#sk-container-id-3 div.sk-item::before, #sk-container-id-3 div.sk-parallel-item::before {content: \"\";position: absolute;border-left: 1px solid gray;box-sizing: border-box;top: 0;bottom: 0;left: 50%;z-index: -1;}#sk-container-id-3 div.sk-parallel-item {display: flex;flex-direction: column;z-index: 1;position: relative;background-color: white;}#sk-container-id-3 div.sk-parallel-item:first-child::after {align-self: flex-end;width: 50%;}#sk-container-id-3 div.sk-parallel-item:last-child::after {align-self: flex-start;width: 50%;}#sk-container-id-3 div.sk-parallel-item:only-child::after {width: 0;}#sk-container-id-3 div.sk-dashed-wrapped {border: 1px dashed gray;margin: 0 0.4em 0.5em 0.4em;box-sizing: border-box;padding-bottom: 0.4em;background-color: white;}#sk-container-id-3 div.sk-label label {font-family: monospace;font-weight: bold;display: inline-block;line-height: 1.2em;}#sk-container-id-3 div.sk-label-container {text-align: center;}#sk-container-id-3 div.sk-container {/* jupyter's `normalize.less` sets `[hidden] { display: none; }` but bootstrap.min.css set `[hidden] { display: none !important; }` so we also need the `!important` here to be able to override the default hidden behavior on the sphinx rendered scikit-learn.org. See: https://github.com/scikit-learn/scikit-learn/issues/21755 */display: inline-block !important;position: relative;}#sk-container-id-3 div.sk-text-repr-fallback {display: none;}</style><div id=\"sk-container-id-3\" class=\"sk-top-container\"><div class=\"sk-text-repr-fallback\"><pre>RandomForestClassifier(criterion=&#x27;entropy&#x27;, max_depth=4, max_features=&#x27;log2&#x27;,\n",
              "                       n_estimators=125, random_state=42)</pre><b>In a Jupyter environment, please rerun this cell to show the HTML representation or trust the notebook. <br />On GitHub, the HTML representation is unable to render, please try loading this page with nbviewer.org.</b></div><div class=\"sk-container\" hidden><div class=\"sk-item\"><div class=\"sk-estimator sk-toggleable\"><input class=\"sk-toggleable__control sk-hidden--visually\" id=\"sk-estimator-id-5\" type=\"checkbox\" checked><label for=\"sk-estimator-id-5\" class=\"sk-toggleable__label sk-toggleable__label-arrow\">RandomForestClassifier</label><div class=\"sk-toggleable__content\"><pre>RandomForestClassifier(criterion=&#x27;entropy&#x27;, max_depth=4, max_features=&#x27;log2&#x27;,\n",
              "                       n_estimators=125, random_state=42)</pre></div></div></div></div></div>"
            ],
            "text/plain": [
              "RandomForestClassifier(criterion='entropy', max_depth=4, max_features='log2',\n",
              "                       n_estimators=125, random_state=42)"
            ]
          },
          "execution_count": 27,
          "metadata": {},
          "output_type": "execute_result"
        }
      ],
      "source": [
        "rfc.fit(X_train,y_train)"
      ]
    },
    {
      "cell_type": "code",
      "execution_count": 45,
      "metadata": {
        "id": "SKj6LYOBLedU"
      },
      "outputs": [],
      "source": [
        "pred_f = rfc.predict(X_test)"
      ]
    },
    {
      "cell_type": "code",
      "execution_count": 46,
      "metadata": {
        "id": "r5SSDnq0MzqG"
      },
      "outputs": [],
      "source": [
        "from sklearn.metrics import classification_report"
      ]
    },
    {
      "cell_type": "code",
      "execution_count": 47,
      "metadata": {
        "colab": {
          "base_uri": "https://localhost:8080/"
        },
        "id": "RmFYGlYrM3k5",
        "outputId": "23cf4685-ce9f-4098-990e-22fda91c6bef"
      },
      "outputs": [
        {
          "output_type": "stream",
          "name": "stdout",
          "text": [
            "              precision    recall  f1-score   support\n",
            "\n",
            "           N       1.00      0.50      0.67        10\n",
            "           Y       0.75      1.00      0.86        15\n",
            "\n",
            "    accuracy                           0.80        25\n",
            "   macro avg       0.88      0.75      0.76        25\n",
            "weighted avg       0.85      0.80      0.78        25\n",
            "\n"
          ]
        }
      ],
      "source": [
        "print(classification_report(y_test,pred_f))"
      ]
    },
    {
      "cell_type": "markdown",
      "source": [
        "AOC ROC"
      ],
      "metadata": {
        "id": "UroHMguJE_Il"
      }
    },
    {
      "cell_type": "code",
      "source": [
        "\n",
        "\n",
        "\n",
        "roc_auc = roc_auc_score(y_test, rfc.predict_proba(X_test)[:, 1])\n",
        "\n",
        "\n",
        "print(\"AOC ROC:\", roc_auc)\n"
      ],
      "metadata": {
        "colab": {
          "base_uri": "https://localhost:8080/"
        },
        "id": "0wFmGslVDl6y",
        "outputId": "4f95fea1-0a04-44b0-f844-31d624458c82"
      },
      "execution_count": 55,
      "outputs": [
        {
          "output_type": "stream",
          "name": "stdout",
          "text": [
            "AOC ROC: 0.8600000000000001\n"
          ]
        }
      ]
    },
    {
      "cell_type": "markdown",
      "source": [
        "MCC\n",
        "\n"
      ],
      "metadata": {
        "id": "huqnJlYWFB0a"
      }
    },
    {
      "cell_type": "code",
      "source": [
        "\n",
        "\n",
        "mcc = matthews_corrcoef(y_test, rfc.predict(X_test))\n",
        "print(\"MCC:\", mcc)\n"
      ],
      "metadata": {
        "colab": {
          "base_uri": "https://localhost:8080/"
        },
        "id": "BkQP8QvFEmVn",
        "outputId": "9aea3772-193f-4c3b-e85d-1f3066b0cf79"
      },
      "execution_count": 62,
      "outputs": [
        {
          "output_type": "stream",
          "name": "stdout",
          "text": [
            "MCC: 0.6123724356957945\n"
          ]
        }
      ]
    },
    {
      "cell_type": "markdown",
      "source": [
        "Confusion Matrix"
      ],
      "metadata": {
        "id": "kRV03PXgcaJA"
      }
    },
    {
      "cell_type": "code",
      "source": [
        "\n",
        "\n",
        "import matplotlib.pyplot as plt\n",
        "cm = confusion_matrix(y_test, rfc.predict(X_test))\n",
        "\n",
        "\n",
        "sns.heatmap(cm, annot=True, fmt=\"d\", cmap=\"Blues\")\n",
        "plt.xlabel(\"Predicted Label\")\n",
        "plt.ylabel(\"True Label\")\n",
        "plt.title(\"Confusion Matrix for Random Forest\")\n",
        "plt.show()\n"
      ],
      "metadata": {
        "colab": {
          "base_uri": "https://localhost:8080/",
          "height": 472
        },
        "id": "pTTGAkTFcdj8",
        "outputId": "187600a3-acbc-45ac-b6e2-66763d336240"
      },
      "execution_count": 84,
      "outputs": [
        {
          "output_type": "display_data",
          "data": {
            "text/plain": [
              "<Figure size 640x480 with 2 Axes>"
            ],
            "image/png": "[encoded data removed]"
          },
          "metadata": {}
        }
      ]
    },
    {
      "cell_type": "markdown",
      "source": [
        "##SVM\n"
      ],
      "metadata": {
        "id": "lx8XbguzD1ei"
      }
    },
    {
      "cell_type": "code",
      "execution_count": 63,
      "metadata": {
        "colab": {
          "base_uri": "https://localhost:8080/"
        },
        "id": "s6zyZJt7d_JJ",
        "outputId": "cbea21d9-d8c3-4fd9-bccb-6b0eb49f7d49"
      },
      "outputs": [
        {
          "output_type": "stream",
          "name": "stdout",
          "text": [
            "{'C': 0.1, 'gamma': 1, 'kernel': 'linear'}\n",
            "              precision    recall  f1-score   support\n",
            "\n",
            "           N       0.57      0.80      0.67        10\n",
            "           Y       0.82      0.60      0.69        15\n",
            "\n",
            "    accuracy                           0.68        25\n",
            "   macro avg       0.69      0.70      0.68        25\n",
            "weighted avg       0.72      0.68      0.68        25\n",
            "\n"
          ]
        }
      ],
      "source": [
        "\n",
        "\n",
        "from sklearn.svm import SVC\n",
        "from sklearn.model_selection import GridSearchCV\n",
        "\n",
        "# Define the parameter grid\n",
        "param_grid = {\n",
        "    'C': [0.1, 1, 10, 100],\n",
        "    'gamma': [1, 0.1, 0.01, 0.001],\n",
        "    'kernel': ['rbf', 'linear']\n",
        "}\n",
        "\n",
        "# Create the grid search object\n",
        "grid_search = GridSearchCV(SVC(), param_grid, cv=5)\n",
        "\n",
        "# Fit the grid search object to the data\n",
        "grid_search.fit(X_train, y_train)\n",
        "\n",
        "# Print the best parameters\n",
        "print(grid_search.best_params_)\n",
        "\n",
        "# Create a new SVC object with the best parameters\n",
        "best_svm = SVC(**grid_search.best_params_)\n",
        "\n",
        "# Fit the best SVM object to the data\n",
        "best_svm.fit(X_train, y_train)\n",
        "\n",
        "# Make predictions on the test data\n",
        "y_pred_svm = best_svm.predict(X_test)\n",
        "\n",
        "# Evaluate the performance of  SVM model\n",
        "print(classification_report(y_test, y_pred_svm))\n"
      ]
    },
    {
      "cell_type": "markdown",
      "source": [
        "AOC ROC"
      ],
      "metadata": {
        "id": "OGIJb80VEx-j"
      }
    },
    {
      "cell_type": "code",
      "source": [
        "from sklearn.svm import SVC\n",
        "\n",
        "# Create a new SVM model with probability enabled\n",
        "best_svm = SVC(C=0.1, gamma=1, kernel='linear', probability=True)\n",
        "\n",
        "# Fit the model to the training data\n",
        "best_svm.fit(X_train, y_train)\n",
        "\n",
        "# Calculate the AOC ROC for the best SVM model\n",
        "roc_auc_svm = roc_auc_score(y_test, best_svm.predict_proba(X_test)[:, 1])\n",
        "\n",
        "# Print the AOC ROC\n",
        "print(\"AOC ROC SVM model:\", roc_auc_svm)"
      ],
      "metadata": {
        "colab": {
          "base_uri": "https://localhost:8080/"
        },
        "id": "Ok1S2ALWEMSB",
        "outputId": "0f3337bb-7ffc-4863-fc41-d5b417600e34"
      },
      "execution_count": 61,
      "outputs": [
        {
          "output_type": "stream",
          "name": "stdout",
          "text": [
            "AOC ROC SVM model: 0.8066666666666666\n"
          ]
        }
      ]
    },
    {
      "cell_type": "markdown",
      "source": [
        "MCC\n"
      ],
      "metadata": {
        "id": "8i6uqpJuH5-9"
      }
    },
    {
      "cell_type": "code",
      "source": [
        "\n",
        "mcc_svm = matthews_corrcoef(y_test, best_svm.predict(X_test))\n",
        "\n",
        "# Print the MCC\n",
        "print(\"MCC SVM model:\", mcc_svm)\n"
      ],
      "metadata": {
        "colab": {
          "base_uri": "https://localhost:8080/"
        },
        "id": "cc-SqG11Fubn",
        "outputId": "6852fa8d-4b0d-4e4f-b7b7-a88509f323a1"
      },
      "execution_count": 64,
      "outputs": [
        {
          "output_type": "stream",
          "name": "stdout",
          "text": [
            "MCC SVM model: 0.39477101697586137\n"
          ]
        }
      ]
    },
    {
      "cell_type": "markdown",
      "source": [
        "Confusion Matrix"
      ],
      "metadata": {
        "id": "-8nvasdxdQBf"
      }
    },
    {
      "cell_type": "code",
      "source": [
        "\n",
        "\n",
        "import matplotlib.pyplot as plt\n",
        "# Create a confusion matrix for the best SVM model\n",
        "cm_svm = confusion_matrix(y_test, best_svm.predict(X_test))\n",
        "\n",
        "# Plot the confusion matrix\n",
        "sns.heatmap(cm_svm, annot=True, fmt=\"d\", cmap=\"Blues\")\n",
        "plt.xlabel(\"Predicted Label\")\n",
        "plt.ylabel(\"True Label\")\n",
        "plt.title(\"Confusion Matrix for SVM\")\n",
        "plt.show()\n"
      ],
      "metadata": {
        "colab": {
          "base_uri": "https://localhost:8080/",
          "height": 472
        },
        "id": "Xg3x_F39dSvp",
        "outputId": "473a9a63-de19-482f-d8a8-ad4f3cf8fb46"
      },
      "execution_count": 85,
      "outputs": [
        {
          "output_type": "display_data",
          "data": {
            "text/plain": [
              "<Figure size 640x480 with 2 Axes>"
            ],
            "image/png": "[encoded data removed]"
          },
          "metadata": {}
        }
      ]
    },
    {
      "cell_type": "markdown",
      "source": [
        "##KNeighborsClassifier"
      ],
      "metadata": {
        "id": "UfTndPQ8EHNV"
      }
    },
    {
      "cell_type": "code",
      "execution_count": 57,
      "metadata": {
        "colab": {
          "base_uri": "https://localhost:8080/"
        },
        "id": "CRfaw4EDeZTX",
        "outputId": "eb8ab37e-4025-412d-949a-c9ba98baaeeb"
      },
      "outputs": [
        {
          "output_type": "stream",
          "name": "stdout",
          "text": [
            "{'algorithm': 'auto', 'n_neighbors': 9, 'weights': 'uniform'}\n",
            "              precision    recall  f1-score   support\n",
            "\n",
            "           N       0.60      0.60      0.60        10\n",
            "           Y       0.73      0.73      0.73        15\n",
            "\n",
            "    accuracy                           0.68        25\n",
            "   macro avg       0.67      0.67      0.67        25\n",
            "weighted avg       0.68      0.68      0.68        25\n",
            "\n"
          ]
        }
      ],
      "source": [
        "\n",
        "\n",
        "from sklearn.neighbors import KNeighborsClassifier\n",
        "\n",
        "# Create the kNN classifier\n",
        "knn = KNeighborsClassifier()\n",
        "\n",
        "# Define the parameter grid\n",
        "param_grid = {\n",
        "    'n_neighbors': [3, 5, 7, 9, 11, 13, 15],\n",
        "    'weights': ['uniform', 'distance'],\n",
        "    'algorithm': ['auto', 'ball_tree', 'kd_tree', 'brute']\n",
        "}\n",
        "\n",
        "# Create the grid search object\n",
        "grid_search = GridSearchCV(knn, param_grid, cv=5)\n",
        "\n",
        "# Fit the grid search object to the data\n",
        "grid_search.fit(X_train, y_train)\n",
        "\n",
        "# Print the best parameters\n",
        "print(grid_search.best_params_)\n",
        "\n",
        "# Create a new kNN object with the best parameters\n",
        "best_knn = KNeighborsClassifier(**grid_search.best_params_)\n",
        "\n",
        "# Fit the best kNN object to the data\n",
        "best_knn.fit(X_train, y_train)\n",
        "\n",
        "# Make predictions on the test data\n",
        "y_pred_knn = best_knn.predict(X_test)\n",
        "\n",
        "# Evaluate the performance of the best kNN model\n",
        "print(classification_report(y_test, y_pred_knn))\n"
      ]
    },
    {
      "cell_type": "code",
      "source": [
        "\n",
        "\n",
        "\n",
        "roc_auc_knn = roc_auc_score(y_test, best_knn.predict_proba(X_test)[:, 1])\n",
        "\n",
        "\n",
        "print(\"AOC ROC kNN model:\", roc_auc_knn)\n",
        "\n",
        "# MCC\n",
        "mcc_knn = matthews_corrcoef(y_test, best_knn.predict(X_test))\n",
        "\n",
        "\n",
        "print(\"MCC kNN model:\", mcc_knn)\n"
      ],
      "metadata": {
        "colab": {
          "base_uri": "https://localhost:8080/"
        },
        "id": "6Ay1xtJfTfhF",
        "outputId": "936f86d4-2d9c-4587-d741-c82626cd7843"
      },
      "execution_count": 66,
      "outputs": [
        {
          "output_type": "stream",
          "name": "stdout",
          "text": [
            "AOC ROC kNN model: 0.79\n",
            "MCC kNN model: 0.3333333333333333\n"
          ]
        }
      ]
    },
    {
      "cell_type": "markdown",
      "source": [
        "Confusion Matrix"
      ],
      "metadata": {
        "id": "prRE9fnodcKL"
      }
    },
    {
      "cell_type": "code",
      "source": [
        "\n",
        "\n",
        "import matplotlib.pyplot as plt\n",
        "# Create a confusion matrix for the best kNN model\n",
        "cm_knn = confusion_matrix(y_test, best_knn.predict(X_test))\n",
        "\n",
        "# Plot the confusion matrix\n",
        "sns.heatmap(cm_knn, annot=True, fmt=\"d\", cmap=\"Blues\")\n",
        "plt.xlabel(\"Predicted Label\")\n",
        "plt.ylabel(\"True Label\")\n",
        "plt.title(\"Confusion Matrix for kNN\")\n",
        "plt.show()\n"
      ],
      "metadata": {
        "colab": {
          "base_uri": "https://localhost:8080/",
          "height": 472
        },
        "id": "ehcvcKlhdgT-",
        "outputId": "a0e355f3-c775-4c87-c857-3014be14c753"
      },
      "execution_count": 86,
      "outputs": [
        {
          "output_type": "display_data",
          "data": {
            "text/plain": [
              "<Figure size 640x480 with 2 Axes>"
            ],
            "image/png": "[encoded data removed]"
          },
          "metadata": {}
        }
      ]
    },
    {
      "cell_type": "markdown",
      "source": [
        "##AdaBoost Classifier & Bagging Classifier"
      ],
      "metadata": {
        "id": "eWjyxa33TS1V"
      }
    },
    {
      "cell_type": "code",
      "source": [
        "from sklearn.ensemble import AdaBoostClassifier\n",
        "from sklearn.ensemble import BaggingClassifier\n",
        "\n",
        "from sklearn.metrics import classification_report"
      ],
      "metadata": {
        "id": "oBAspIw-Vzj7"
      },
      "execution_count": 71,
      "outputs": []
    },
    {
      "cell_type": "code",
      "execution_count": 72,
      "metadata": {
        "colab": {
          "base_uri": "https://localhost:8080/"
        },
        "id": "CiV83EctepLS",
        "outputId": "c1bb33bd-84d3-4845-dc9e-9e6cc5447477"
      },
      "outputs": [
        {
          "output_type": "stream",
          "name": "stdout",
          "text": [
            "              precision    recall  f1-score   support\n",
            "\n",
            "           N       0.67      0.60      0.63        10\n",
            "           Y       0.75      0.80      0.77        15\n",
            "\n",
            "    accuracy                           0.72        25\n",
            "   macro avg       0.71      0.70      0.70        25\n",
            "weighted avg       0.72      0.72      0.72        25\n",
            "\n",
            "              precision    recall  f1-score   support\n",
            "\n",
            "           N       1.00      0.60      0.75        10\n",
            "           Y       0.79      1.00      0.88        15\n",
            "\n",
            "    accuracy                           0.84        25\n",
            "   macro avg       0.89      0.80      0.82        25\n",
            "weighted avg       0.87      0.84      0.83        25\n",
            "\n"
          ]
        }
      ],
      "source": [
        "from sklearn.ensemble import AdaBoostClassifier\n",
        "from sklearn.ensemble import BaggingClassifier\n",
        "\n",
        "# Create an AdaBoost classifier\n",
        "abc = AdaBoostClassifier(base_estimator=DecisionTreeClassifier(),\n",
        "                         n_estimators=50,\n",
        "                         learning_rate=1)\n",
        "\n",
        "# Fit the AdaBoost classifier to the data\n",
        "abc.fit(X_train, y_train)\n",
        "\n",
        "# Make predictions on the test data\n",
        "y_pred_abc = abc.predict(X_test)\n",
        "\n",
        "# Evaluate the performance of the AdaBoost classifier\n",
        "print(classification_report(y_test, y_pred_abc))\n",
        "\n",
        "# Create a Bagging classifier\n",
        "bc = BaggingClassifier(base_estimator=DecisionTreeClassifier(),\n",
        "                        n_estimators=50,\n",
        "                        max_samples=0.25,\n",
        "                        bootstrap=False)\n",
        "\n",
        "# Fit the Bagging classifier to the data\n",
        "bc.fit(X_train, y_train)\n",
        "\n",
        "# Make predictions on the test data\n",
        "y_pred_bc = bc.predict(X_test)\n",
        "\n",
        "# Evaluate the performance of the Bagging classifier\n",
        "print(classification_report(y_test, y_pred_bc))\n"
      ]
    },
    {
      "cell_type": "code",
      "source": [
        "\n",
        "\n",
        "# AOC ROC for AdaBoost\n",
        "roc_auc_abc = roc_auc_score(y_test, abc.predict_proba(X_test)[:, 1])\n",
        "print(\"AOC ROC AdaBoost model:\", roc_auc_abc)\n",
        "\n",
        "# MCC for AdaBoost\n",
        "mcc_abc = matthews_corrcoef(y_test, abc.predict(X_test))\n",
        "print(\"MCC AdaBoost model:\", mcc_abc)\n",
        "\n",
        "# AOC ROC for Bagging\n",
        "roc_auc_bc = roc_auc_score(y_test, bc.predict_proba(X_test)[:, 1])\n",
        "print(\"AOC ROC Bagging model:\", roc_auc_bc)\n",
        "\n",
        "# MCC for Bagging\n",
        "mcc_bc = matthews_corrcoef(y_test, bc.predict(X_test))\n",
        "print(\"MCC Bagging model:\", mcc_bc)\n"
      ],
      "metadata": {
        "colab": {
          "base_uri": "https://localhost:8080/"
        },
        "id": "Pbga30q_WBvq",
        "outputId": "2f586118-7038-48dc-ede2-ce276bfbbcba"
      },
      "execution_count": 74,
      "outputs": [
        {
          "output_type": "stream",
          "name": "stdout",
          "text": [
            "AOC ROC AdaBoost model: 0.7000000000000001\n",
            "MCC AdaBoost model: 0.40824829046386296\n",
            "AOC ROC Bagging model: 0.8166666666666667\n",
            "MCC Bagging model: 0.6882472016116853\n"
          ]
        }
      ]
    },
    {
      "cell_type": "markdown",
      "source": [
        "Confusion Matrix"
      ],
      "metadata": {
        "id": "1LHLHlvTds7v"
      }
    },
    {
      "cell_type": "code",
      "source": [
        "\n",
        "\n",
        "\n",
        "import matplotlib.pyplot as plt\n",
        "# Confusion Matrix for AdaBoost\n",
        "cm_abc = confusion_matrix(y_test, abc.predict(X_test))\n",
        "\n",
        "# Plot the confusion matrix\n",
        "sns.heatmap(cm_abc, annot=True, fmt=\"d\", cmap=\"Blues\")\n",
        "plt.xlabel(\"Predicted Label\")\n",
        "plt.ylabel(\"True Label\")\n",
        "plt.title(\"Confusion Matrix for AdaBoost\")\n",
        "plt.show()\n",
        "\n",
        "# Confusion Matrix for Bagging\n",
        "cm_bc = confusion_matrix(y_test, bc.predict(X_test))\n",
        "\n",
        "# Plot the confusion matrix\n",
        "sns.heatmap(cm_bc, annot=True, fmt=\"d\", cmap=\"Blues\")\n",
        "plt.xlabel(\"Predicted Label\")\n",
        "plt.ylabel(\"True Label\")\n",
        "plt.title(\"Confusion Matrix for Bagging\")\n",
        "plt.show()\n"
      ],
      "metadata": {
        "colab": {
          "base_uri": "https://localhost:8080/",
          "height": 927
        },
        "id": "19vG1WEpdvnM",
        "outputId": "5c5af184-e5ed-42f0-d672-395cad5c9723"
      },
      "execution_count": 87,
      "outputs": [
        {
          "output_type": "display_data",
          "data": {
            "text/plain": [
              "<Figure size 640x480 with 2 Axes>"
            ],
            "image/png": "[encoded data removed]"
          },
          "metadata": {}
        },
        {
          "output_type": "display_data",
          "data": {
            "text/plain": [
              "<Figure size 640x480 with 2 Axes>"
            ],
            "image/png": "[encoded data removed]"
          },
          "metadata": {}
        }
      ]
    },
    {
      "cell_type": "markdown",
      "source": [
        "##Visual Representation of accuracy of all model used through linear graph"
      ],
      "metadata": {
        "id": "9aEjpxqjYQmq"
      }
    },
    {
      "cell_type": "code",
      "source": [
        "\n",
        "\n",
        "import matplotlib.pyplot as plt\n",
        "\n",
        "# Create a list of all the components used\n",
        "Models = ['Logreg', 'Random Forest', 'SVM', 'KNN', 'AdaBoost', 'Bagging']\n",
        "\n",
        "# Create a list of the corresponding accuracy scores\n",
        "accuracy_scores = [0.64, 0.80, 0.68, 0.68, 0.72, 0.84]\n",
        "\n",
        "# Create a bar chart\n",
        "plt.bar(Models, accuracy_scores)\n",
        "\n",
        "# Add a title and labels\n",
        "plt.title('Accuracy Scores of Different Models')\n",
        "plt.xlabel('Components')\n",
        "plt.ylabel('Accuracy Score')\n",
        "\n",
        "# Show the plot\n",
        "plt.show()\n"
      ],
      "metadata": {
        "colab": {
          "base_uri": "https://localhost:8080/",
          "height": 472
        },
        "id": "N0svv5xqXXdq",
        "outputId": "8829c854-f491-4127-ff8e-7b0492b9d4c7"
      },
      "execution_count": 81,
      "outputs": [
        {
          "output_type": "display_data",
          "data": {
            "text/plain": [
              "<Figure size 640x480 with 1 Axes>"
            ],
            "image/png": "[encoded data removed]"
          },
          "metadata": {}
        }
      ]
    }
  ],
  "metadata": {
    "colab": {
      "provenance": [],
      "include_colab_link": true
    },
    "kernelspec": {
      "display_name": "Python 3",
      "name": "python3"
    },
    "language_info": {
      "name": "python"
    }
  },
  "nbformat": 4,
  "nbformat_minor": 0
}